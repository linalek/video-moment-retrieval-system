{
 "cells": [
  {
   "cell_type": "markdown",
   "id": "9f80e868",
   "metadata": {},
   "source": [
    "# Project Phase 2: Large Vision and Language Models"
   ]
  },
  {
   "cell_type": "markdown",
   "id": "bf7dd724",
   "metadata": {},
   "source": [
    "## Connexion to our index"
   ]
  },
  {
   "cell_type": "code",
   "execution_count": 17,
   "id": "2411bea1",
   "metadata": {},
   "outputs": [],
   "source": [
    "import pprint as pp\n",
    "import requests\n",
    "\n",
    "host = 'localhost'\n",
    "port = 9200\n",
    "\n",
    "user = 'admin' # Add your user name here.\n",
    "password = 'a.Zerty12.3' # Add your user password here. For testing only. Don't store credentials in code. \n",
    "index_name = user"
   ]
  },
  {
   "cell_type": "code",
   "execution_count": 18,
   "id": "9f6c6609",
   "metadata": {},
   "outputs": [
    {
     "name": "stdout",
     "output_type": "stream",
     "text": [
      "{'acknowledged': True, 'shards_acknowledged': True}\n",
      "\n",
      "----------------------------------------------------------------------------------- INDEX SETTINGS\n",
      "{'admin': {'settings': {'index': {'creation_date': '1744838749384',\n",
      "                                  'knn': 'true',\n",
      "                                  'number_of_replicas': '0',\n",
      "                                  'number_of_shards': '4',\n",
      "                                  'provided_name': 'admin',\n",
      "                                  'refresh_interval': '-1',\n",
      "                                  'replication': {'type': 'DOCUMENT'},\n",
      "                                  'uuid': 'DTG5g1Q0TmGFnC6ZN7pPWA',\n",
      "                                  'version': {'created': '136347827'}}}}}\n",
      "\n",
      "----------------------------------------------------------------------------------- INDEX MAPPINGS\n",
      "{'admin': {'mappings': {'properties': {'caption_bow': {'analyzer': 'standard',\n",
      "                                                       'type': 'text'},\n",
      "                                       'caption_vec': {'dimension': 384,\n",
      "                                                       'type': 'knn_vector'},\n",
      "                                       'end_timestamp': {'type': 'float'},\n",
      "                                       'moment_description': {'analyzer': 'standard',\n",
      "                                                              'type': 'text'},\n",
      "                                       'start_timestamp': {'type': 'float'},\n",
      "                                       'vid_id': {'type': 'keyword'},\n",
      "                                       'video_length': {'type': 'float'}}}}}\n",
      "\n",
      "----------------------------------------------------------------------------------- INDEX #DOCs\n",
      "{'count': 0, '_shards': {'total': 4, 'successful': 4, 'skipped': 0, 'failed': 0}}\n"
     ]
    },
    {
     "name": "stderr",
     "output_type": "stream",
     "text": [
      "/home/lina/miniconda3/envs/nlp-cv-ir/lib/python3.9/site-packages/urllib3/connectionpool.py:1064: InsecureRequestWarning: Unverified HTTPS request is being made to host 'localhost'. Adding certificate verification is strongly advised. See: https://urllib3.readthedocs.io/en/1.26.x/advanced-usage.html#ssl-warnings\n",
      "  warnings.warn(\n",
      "/home/lina/miniconda3/envs/nlp-cv-ir/lib/python3.9/site-packages/urllib3/connectionpool.py:1064: InsecureRequestWarning: Unverified HTTPS request is being made to host 'localhost'. Adding certificate verification is strongly advised. See: https://urllib3.readthedocs.io/en/1.26.x/advanced-usage.html#ssl-warnings\n",
      "  warnings.warn(\n",
      "/home/lina/miniconda3/envs/nlp-cv-ir/lib/python3.9/site-packages/urllib3/connectionpool.py:1064: InsecureRequestWarning: Unverified HTTPS request is being made to host 'localhost'. Adding certificate verification is strongly advised. See: https://urllib3.readthedocs.io/en/1.26.x/advanced-usage.html#ssl-warnings\n",
      "  warnings.warn(\n",
      "/home/lina/miniconda3/envs/nlp-cv-ir/lib/python3.9/site-packages/urllib3/connectionpool.py:1064: InsecureRequestWarning: Unverified HTTPS request is being made to host 'localhost'. Adding certificate verification is strongly advised. See: https://urllib3.readthedocs.io/en/1.26.x/advanced-usage.html#ssl-warnings\n",
      "  warnings.warn(\n",
      "/home/lina/miniconda3/envs/nlp-cv-ir/lib/python3.9/site-packages/urllib3/connectionpool.py:1064: InsecureRequestWarning: Unverified HTTPS request is being made to host 'localhost'. Adding certificate verification is strongly advised. See: https://urllib3.readthedocs.io/en/1.26.x/advanced-usage.html#ssl-warnings\n",
      "  warnings.warn(\n"
     ]
    }
   ],
   "source": [
    "import pprint as pp\n",
    "from opensearchpy import OpenSearch\n",
    "from opensearchpy import helpers\n",
    "\n",
    "# Create the client with SSL/TLS enabled, but hostname verification disabled.\n",
    "client = OpenSearch(\n",
    "    hosts = [{'host': host, 'port': port}],\n",
    "    http_auth = (user, password),\n",
    "    use_ssl = True,\n",
    "    verify_certs = False,\n",
    ")\n",
    "\n",
    "if client.indices.exists(index_name):\n",
    "\n",
    "    resp = client.indices.open(index = index_name)\n",
    "    print(resp)\n",
    "\n",
    "    print('\\n----------------------------------------------------------------------------------- INDEX SETTINGS')\n",
    "    settings = client.indices.get_settings(index = index_name)\n",
    "    pp.pprint(settings)\n",
    "\n",
    "    print('\\n----------------------------------------------------------------------------------- INDEX MAPPINGS')\n",
    "    mappings = client.indices.get_mapping(index = index_name)\n",
    "    pp.pprint(mappings)\n",
    "\n",
    "    print('\\n----------------------------------------------------------------------------------- INDEX #DOCs')\n",
    "    print(client.count(index = index_name))\n",
    "else:\n",
    "    print(\"Index does not exist.\")\n"
   ]
  },
  {
   "cell_type": "code",
   "execution_count": 19,
   "id": "dddfe015",
   "metadata": {},
   "outputs": [
    {
     "name": "stdout",
     "output_type": "stream",
     "text": [
      "Total hits: 0\n"
     ]
    },
    {
     "name": "stderr",
     "output_type": "stream",
     "text": [
      "/home/lina/miniconda3/envs/nlp-cv-ir/lib/python3.9/site-packages/urllib3/connectionpool.py:1064: InsecureRequestWarning: Unverified HTTPS request is being made to host 'localhost'. Adding certificate verification is strongly advised. See: https://urllib3.readthedocs.io/en/1.26.x/advanced-usage.html#ssl-warnings\n",
      "  warnings.warn(\n",
      "/home/lina/miniconda3/envs/nlp-cv-ir/lib/python3.9/site-packages/urllib3/connectionpool.py:1064: InsecureRequestWarning: Unverified HTTPS request is being made to host 'localhost'. Adding certificate verification is strongly advised. See: https://urllib3.readthedocs.io/en/1.26.x/advanced-usage.html#ssl-warnings\n",
      "  warnings.warn(\n"
     ]
    }
   ],
   "source": [
    "# Give every documents added to the index\n",
    "client.indices.refresh(index=index_name)\n",
    "query = {\n",
    "    \"query\": {\n",
    "        \"match_all\": {}\n",
    "    },\n",
    "    \"size\": 100  # Adjust the number to see more results if needed\n",
    "}\n",
    "\n",
    "response = client.search(\n",
    "    index=index_name,\n",
    "    body=query\n",
    ")\n",
    "\n",
    "# Print the total number of documents and some of the documents\n",
    "print(f\"Total hits: {response['hits']['total']['value']}\")\n",
    "for hit in response['hits']['hits']:\n",
    "    print(hit['_source'])  # Print the source of each document"
   ]
  },
  {
   "cell_type": "markdown",
   "id": "f3fa922c",
   "metadata": {},
   "source": [
    "## Cross-Modal Retrieval"
   ]
  },
  {
   "cell_type": "markdown",
   "id": "c74ad8f0",
   "metadata": {},
   "source": [
    "### Updating the mapping of our index"
   ]
  },
  {
   "cell_type": "code",
   "execution_count": 20,
   "id": "8712ebae",
   "metadata": {},
   "outputs": [
    {
     "name": "stdout",
     "output_type": "stream",
     "text": [
      "\n",
      "Deleting all the documents:\n",
      "{'took': 8, 'timed_out': False, 'total': 0, 'deleted': 0, 'batches': 0, 'version_conflicts': 0, 'noops': 0, 'retries': {'bulk': 0, 'search': 0}, 'throttled_millis': 0, 'requests_per_second': -1.0, 'throttled_until_millis': 0, 'failures': []}\n"
     ]
    },
    {
     "name": "stderr",
     "output_type": "stream",
     "text": [
      "/home/lina/miniconda3/envs/nlp-cv-ir/lib/python3.9/site-packages/urllib3/connectionpool.py:1064: InsecureRequestWarning: Unverified HTTPS request is being made to host 'localhost'. Adding certificate verification is strongly advised. See: https://urllib3.readthedocs.io/en/1.26.x/advanced-usage.html#ssl-warnings\n",
      "  warnings.warn(\n"
     ]
    }
   ],
   "source": [
    "#deleting all the documents in our index to create new ones for this phase\n",
    "response = client.delete_by_query(\n",
    "    index=index_name,\n",
    "    body={\n",
    "        \"query\": {\n",
    "            \"match_all\": {}  # all the documents\n",
    "        }\n",
    "    }\n",
    ")\n",
    "\n",
    "print('\\nDeleting all the documents:')\n",
    "print(response)"
   ]
  },
  {
   "cell_type": "code",
   "execution_count": 21,
   "id": "8b0553bc",
   "metadata": {},
   "outputs": [
    {
     "name": "stdout",
     "output_type": "stream",
     "text": [
      "Total hits: 0\n"
     ]
    },
    {
     "name": "stderr",
     "output_type": "stream",
     "text": [
      "/home/lina/miniconda3/envs/nlp-cv-ir/lib/python3.9/site-packages/urllib3/connectionpool.py:1064: InsecureRequestWarning: Unverified HTTPS request is being made to host 'localhost'. Adding certificate verification is strongly advised. See: https://urllib3.readthedocs.io/en/1.26.x/advanced-usage.html#ssl-warnings\n",
      "  warnings.warn(\n",
      "/home/lina/miniconda3/envs/nlp-cv-ir/lib/python3.9/site-packages/urllib3/connectionpool.py:1064: InsecureRequestWarning: Unverified HTTPS request is being made to host 'localhost'. Adding certificate verification is strongly advised. See: https://urllib3.readthedocs.io/en/1.26.x/advanced-usage.html#ssl-warnings\n",
      "  warnings.warn(\n"
     ]
    }
   ],
   "source": [
    "# Give every documents added to the index: just to check if the index is empty\n",
    "client.indices.refresh(index=index_name)\n",
    "query = {\n",
    "    \"query\": {\n",
    "        \"match_all\": {}\n",
    "    },\n",
    "    \"size\": 100  # Adjust the number to see more results if needed\n",
    "}\n",
    "\n",
    "response = client.search(\n",
    "    index=index_name,\n",
    "    body=query\n",
    ")\n",
    "\n",
    "# Print the total number of documents and some of the documents\n",
    "print(f\"Total hits: {response['hits']['total']['value']}\")\n",
    "for hit in response['hits']['hits']:\n",
    "    print(hit['_source'])  # Print the source of each document"
   ]
  },
  {
   "cell_type": "code",
   "execution_count": 26,
   "id": "b823c66d",
   "metadata": {},
   "outputs": [
    {
     "name": "stdout",
     "output_type": "stream",
     "text": [
      "\n",
      "Update of the mapping of the index:\n",
      "{'acknowledged': True}\n"
     ]
    },
    {
     "name": "stderr",
     "output_type": "stream",
     "text": [
      "/home/lina/miniconda3/envs/nlp-cv-ir/lib/python3.9/site-packages/urllib3/connectionpool.py:1064: InsecureRequestWarning: Unverified HTTPS request is being made to host 'localhost'. Adding certificate verification is strongly advised. See: https://urllib3.readthedocs.io/en/1.26.x/advanced-usage.html#ssl-warnings\n",
      "  warnings.warn(\n"
     ]
    }
   ],
   "source": [
    "# New mapping for image_embedding and image_caption_embedding\n",
    "mapping_body = {\n",
    "    \"properties\": {\n",
    "        \"image_embedding\": {\n",
    "            \"type\": \"knn_vector\",\n",
    "            \"dimension\": 512, # dimension for CLIP image embeddings\n",
    "            \"index\": True,\n",
    "            \"similarity\": \"cosine\"\n",
    "        },\n",
    "        \"image_caption_embedding\": {\n",
    "            \"type\": \"knn_vector\",\n",
    "            \"dimension\": 512,  # dimension for CLIP text embeddings\n",
    "            \"index\": True,\n",
    "            \"similarity\": \"cosine\"\n",
    "        }\n",
    "    }\n",
    "}\n",
    "\n",
    "# Update the mapping for the index\n",
    "response = client.indices.put_mapping(\n",
    "    index=index_name,\n",
    "    body=mapping_body,\n",
    "    ignore=400  # Ignore errors if the mapping already exists\n",
    ")\n",
    "\n",
    "print(\"\\nUpdate of the mapping of the index:\")\n",
    "print(response)"
   ]
  },
  {
   "cell_type": "code",
   "execution_count": 27,
   "id": "e36f43cc",
   "metadata": {},
   "outputs": [
    {
     "name": "stdout",
     "output_type": "stream",
     "text": [
      "{'acknowledged': True, 'shards_acknowledged': True}\n",
      "\n",
      "----------------------------------------------------------------------------------- INDEX SETTINGS\n",
      "{'admin': {'settings': {'index': {'creation_date': '1744838749384',\n",
      "                                  'knn': 'true',\n",
      "                                  'number_of_replicas': '0',\n",
      "                                  'number_of_shards': '4',\n",
      "                                  'provided_name': 'admin',\n",
      "                                  'refresh_interval': '-1',\n",
      "                                  'replication': {'type': 'DOCUMENT'},\n",
      "                                  'uuid': 'DTG5g1Q0TmGFnC6ZN7pPWA',\n",
      "                                  'version': {'created': '136347827'}}}}}\n",
      "\n",
      "----------------------------------------------------------------------------------- INDEX MAPPINGS\n",
      "{'admin': {'mappings': {'properties': {'caption_bow': {'analyzer': 'standard',\n",
      "                                                       'type': 'text'},\n",
      "                                       'caption_vec': {'dimension': 384,\n",
      "                                                       'type': 'knn_vector'},\n",
      "                                       'end_timestamp': {'type': 'float'},\n",
      "                                       'image_caption_embedding': {'dimension': 512,\n",
      "                                                                   'type': 'knn_vector'},\n",
      "                                       'image_embedding': {'dimension': 512,\n",
      "                                                           'type': 'knn_vector'},\n",
      "                                       'moment_description': {'analyzer': 'standard',\n",
      "                                                              'type': 'text'},\n",
      "                                       'start_timestamp': {'type': 'float'},\n",
      "                                       'vid_id': {'type': 'keyword'},\n",
      "                                       'video_length': {'type': 'float'}}}}}\n",
      "\n",
      "----------------------------------------------------------------------------------- INDEX #DOCs\n",
      "{'count': 0, '_shards': {'total': 4, 'successful': 4, 'skipped': 0, 'failed': 0}}\n"
     ]
    },
    {
     "name": "stderr",
     "output_type": "stream",
     "text": [
      "/home/lina/miniconda3/envs/nlp-cv-ir/lib/python3.9/site-packages/urllib3/connectionpool.py:1064: InsecureRequestWarning: Unverified HTTPS request is being made to host 'localhost'. Adding certificate verification is strongly advised. See: https://urllib3.readthedocs.io/en/1.26.x/advanced-usage.html#ssl-warnings\n",
      "  warnings.warn(\n",
      "/home/lina/miniconda3/envs/nlp-cv-ir/lib/python3.9/site-packages/urllib3/connectionpool.py:1064: InsecureRequestWarning: Unverified HTTPS request is being made to host 'localhost'. Adding certificate verification is strongly advised. See: https://urllib3.readthedocs.io/en/1.26.x/advanced-usage.html#ssl-warnings\n",
      "  warnings.warn(\n",
      "/home/lina/miniconda3/envs/nlp-cv-ir/lib/python3.9/site-packages/urllib3/connectionpool.py:1064: InsecureRequestWarning: Unverified HTTPS request is being made to host 'localhost'. Adding certificate verification is strongly advised. See: https://urllib3.readthedocs.io/en/1.26.x/advanced-usage.html#ssl-warnings\n",
      "  warnings.warn(\n",
      "/home/lina/miniconda3/envs/nlp-cv-ir/lib/python3.9/site-packages/urllib3/connectionpool.py:1064: InsecureRequestWarning: Unverified HTTPS request is being made to host 'localhost'. Adding certificate verification is strongly advised. See: https://urllib3.readthedocs.io/en/1.26.x/advanced-usage.html#ssl-warnings\n",
      "  warnings.warn(\n",
      "/home/lina/miniconda3/envs/nlp-cv-ir/lib/python3.9/site-packages/urllib3/connectionpool.py:1064: InsecureRequestWarning: Unverified HTTPS request is being made to host 'localhost'. Adding certificate verification is strongly advised. See: https://urllib3.readthedocs.io/en/1.26.x/advanced-usage.html#ssl-warnings\n",
      "  warnings.warn(\n"
     ]
    }
   ],
   "source": [
    "#checking the mapping of the index\n",
    "\n",
    "client = OpenSearch(\n",
    "    hosts = [{'host': host, 'port': port}],\n",
    "    http_auth = (user, password),\n",
    "    use_ssl = True,\n",
    "    verify_certs = False,\n",
    ")\n",
    "\n",
    "if client.indices.exists(index_name):\n",
    "\n",
    "    resp = client.indices.open(index = index_name)\n",
    "    print(resp)\n",
    "\n",
    "    print('\\n----------------------------------------------------------------------------------- INDEX SETTINGS')\n",
    "    settings = client.indices.get_settings(index = index_name)\n",
    "    pp.pprint(settings)\n",
    "\n",
    "    print('\\n----------------------------------------------------------------------------------- INDEX MAPPINGS')\n",
    "    mappings = client.indices.get_mapping(index = index_name)\n",
    "    pp.pprint(mappings)\n",
    "\n",
    "    print('\\n----------------------------------------------------------------------------------- INDEX #DOCs')\n",
    "    print(client.count(index = index_name))\n",
    "else:\n",
    "    print(\"Index does not exist.\")"
   ]
  },
  {
   "cell_type": "markdown",
   "id": "3f241bb8",
   "metadata": {},
   "source": [
    "### Parsing through moments' frames"
   ]
  },
  {
   "cell_type": "markdown",
   "id": "b9ae0a22",
   "metadata": {},
   "source": [
    "### Image embedding"
   ]
  },
  {
   "cell_type": "markdown",
   "id": "558a2cc0",
   "metadata": {},
   "source": [
    "### Queries"
   ]
  }
 ],
 "metadata": {
  "kernelspec": {
   "display_name": "nlp-cv-ir",
   "language": "python",
   "name": "python3"
  },
  "language_info": {
   "codemirror_mode": {
    "name": "ipython",
    "version": 3
   },
   "file_extension": ".py",
   "mimetype": "text/x-python",
   "name": "python",
   "nbconvert_exporter": "python",
   "pygments_lexer": "ipython3",
   "version": "3.9.21"
  }
 },
 "nbformat": 4,
 "nbformat_minor": 5
}
