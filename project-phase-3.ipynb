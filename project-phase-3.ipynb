{
 "cells": [
  {
   "cell_type": "markdown",
   "id": "bc740b44",
   "metadata": {},
   "source": [
    "# Project Phase 3: Video Moment Retrieval"
   ]
  },
  {
   "cell_type": "markdown",
   "id": "0637517c",
   "metadata": {},
   "source": []
  }
 ],
 "metadata": {
  "language_info": {
   "name": "python"
  }
 },
 "nbformat": 4,
 "nbformat_minor": 5
}
