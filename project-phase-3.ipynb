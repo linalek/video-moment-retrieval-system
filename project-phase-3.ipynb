{
 "cells": [
  {
   "cell_type": "markdown",
   "id": "bc740b44",
   "metadata": {},
   "source": [
    "# Project Phase 3: Video Moment Detection"
   ]
  },
  {
   "cell_type": "markdown",
   "id": "0637517c",
   "metadata": {},
   "source": []
  },
  {
   "cell_type": "markdown",
   "id": "81a7f7a9",
   "metadata": {},
   "source": [
    "## Frames extraction"
   ]
  },
  {
   "cell_type": "code",
   "execution_count": null,
   "id": "51419cc6",
   "metadata": {
    "vscode": {
     "languageId": "plaintext"
    }
   },
   "outputs": [],
   "source": []
  },
  {
   "cell_type": "markdown",
   "id": "8e5703fc",
   "metadata": {},
   "source": [
    "## Captions generations"
   ]
  },
  {
   "cell_type": "code",
   "execution_count": null,
   "id": "101059d4",
   "metadata": {
    "vscode": {
     "languageId": "plaintext"
    }
   },
   "outputs": [],
   "source": []
  },
  {
   "cell_type": "markdown",
   "id": "080751ff",
   "metadata": {},
   "source": [
    "## Captions encoding"
   ]
  },
  {
   "cell_type": "code",
   "execution_count": null,
   "id": "a1732fdb",
   "metadata": {
    "vscode": {
     "languageId": "plaintext"
    }
   },
   "outputs": [],
   "source": []
  },
  {
   "cell_type": "markdown",
   "id": "890bb04b",
   "metadata": {},
   "source": [
    "## Regroupment based on clustering"
   ]
  },
  {
   "cell_type": "code",
   "execution_count": null,
   "id": "345e92c9",
   "metadata": {
    "vscode": {
     "languageId": "plaintext"
    }
   },
   "outputs": [],
   "source": []
  },
  {
   "cell_type": "markdown",
   "id": "58c9c1f5",
   "metadata": {},
   "source": [
    "## Frames fusionning"
   ]
  },
  {
   "cell_type": "code",
   "execution_count": null,
   "id": "533cfd8e",
   "metadata": {
    "vscode": {
     "languageId": "plaintext"
    }
   },
   "outputs": [],
   "source": []
  }
 ],
 "metadata": {
  "language_info": {
   "name": "python"
  }
 },
 "nbformat": 4,
 "nbformat_minor": 5
}
