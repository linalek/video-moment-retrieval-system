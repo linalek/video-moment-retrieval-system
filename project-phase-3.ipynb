{
 "cells": [
  {
   "cell_type": "markdown",
   "id": "bc740b44",
   "metadata": {},
   "source": [
    "# Project Phase 3: Video Moment Detection"
   ]
  },
  {
   "cell_type": "markdown",
   "id": "0637517c",
   "metadata": {},
   "source": []
  },
  {
   "cell_type": "markdown",
   "id": "81a7f7a9",
   "metadata": {},
   "source": [
    "## Frames extraction"
   ]
  },
  {
   "cell_type": "code",
   "execution_count": 3,
   "id": "51419cc6",
   "metadata": {},
   "outputs": [],
   "source": [
    "import av\n",
    "import av.datasets\n",
    "import os\n",
    "\n",
    "output_folder = \"./frames_part3\"\n",
    "video = \"./videos/6gyD-Mte2ZM.mp4\"\n",
    "# File name without extension\n",
    "filename = os.path.splitext(video)[0]\n",
    "if not os.path.isdir(output_folder + \"/\" + filename):\n",
    "    os.makedirs(output_folder + \"/\" + filename)\n",
    "with av.open(video) as container:\n",
    "    stream = container.streams.video[0]\n",
    "    # We want 2 frame per second\n",
    "    fps = stream.average_rate\n",
    "    interval = int(round(fps*0.5))\n",
    "    #print(fps)\n",
    "    cpt = 0\n",
    "    for i,frame in enumerate(container.decode(stream)):\n",
    "        if i % interval == 0:\n",
    "            frame.to_image().save(output_folder+\"/\"+filename+\"/\"+str(cpt*(0.5))+\".jpg\", quality=80)\n",
    "            cpt += 1"
   ]
  },
  {
   "cell_type": "markdown",
   "id": "8e5703fc",
   "metadata": {},
   "source": [
    "## Captions generations"
   ]
  },
  {
   "cell_type": "code",
   "execution_count": null,
   "id": "101059d4",
   "metadata": {},
   "outputs": [],
   "source": []
  },
  {
   "cell_type": "markdown",
   "id": "080751ff",
   "metadata": {},
   "source": [
    "## Captions encoding"
   ]
  },
  {
   "cell_type": "code",
   "execution_count": null,
   "id": "a1732fdb",
   "metadata": {},
   "outputs": [],
   "source": []
  },
  {
   "cell_type": "markdown",
   "id": "890bb04b",
   "metadata": {},
   "source": [
    "## Regroupment based on clustering"
   ]
  },
  {
   "cell_type": "code",
   "execution_count": null,
   "id": "345e92c9",
   "metadata": {},
   "outputs": [],
   "source": []
  },
  {
   "cell_type": "markdown",
   "id": "58c9c1f5",
   "metadata": {},
   "source": [
    "## Frames fusionning"
   ]
  },
  {
   "cell_type": "code",
   "execution_count": null,
   "id": "533cfd8e",
   "metadata": {},
   "outputs": [],
   "source": []
  }
 ],
 "metadata": {
  "kernelspec": {
   "display_name": "nlp-cv-ir",
   "language": "python",
   "name": "python3"
  },
  "language_info": {
   "codemirror_mode": {
    "name": "ipython",
    "version": 3
   },
   "file_extension": ".py",
   "mimetype": "text/x-python",
   "name": "python",
   "nbconvert_exporter": "python",
   "pygments_lexer": "ipython3",
   "version": "3.9.21"
  }
 },
 "nbformat": 4,
 "nbformat_minor": 5
}
