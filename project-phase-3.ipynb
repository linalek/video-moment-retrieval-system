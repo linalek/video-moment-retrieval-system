{
 "cells": [
  {
   "cell_type": "markdown",
   "id": "bc740b44",
   "metadata": {},
   "source": [
    "# Project Phase 3: Video Moment Detection"
   ]
  },
  {
   "cell_type": "markdown",
   "id": "0637517c",
   "metadata": {},
   "source": []
  },
  {
   "cell_type": "markdown",
   "id": "e2b0821b",
   "metadata": {},
   "source": [
    "## Connection to our index on OpenSearch"
   ]
  },
  {
   "cell_type": "code",
   "execution_count": 4,
   "id": "a2e85cf0",
   "metadata": {},
   "outputs": [],
   "source": [
    "import pprint as pp\n",
    "import requests\n",
    "\n",
    "host = 'localhost'\n",
    "port = 9200\n",
    "\n",
    "user = 'admin' # Add your user name here.\n",
    "password = 'a.Zerty12.3' # Add your user password here. For testing only. Don't store credentials in code. \n",
    "index_name = user"
   ]
  },
  {
   "cell_type": "code",
   "execution_count": 5,
   "id": "26edf57f",
   "metadata": {},
   "outputs": [
    {
     "name": "stderr",
     "output_type": "stream",
     "text": [
      "/home/marc/anaconda3/envs/nlp-cv-ir/lib/python3.9/site-packages/opensearchpy/connection/http_urllib3.py:214: UserWarning: Connecting to https://localhost:9200 using SSL with verify_certs=False is insecure.\n",
      "  warnings.warn(\n",
      "/home/marc/anaconda3/envs/nlp-cv-ir/lib/python3.9/site-packages/urllib3/connectionpool.py:1064: InsecureRequestWarning: Unverified HTTPS request is being made to host 'localhost'. Adding certificate verification is strongly advised. See: https://urllib3.readthedocs.io/en/1.26.x/advanced-usage.html#ssl-warnings\n",
      "  warnings.warn(\n"
     ]
    },
    {
     "name": "stdout",
     "output_type": "stream",
     "text": [
      "{'acknowledged': True, 'shards_acknowledged': True}\n",
      "\n",
      "----------------------------------------------------------------------------------- INDEX SETTINGS\n",
      "{'admin': {'settings': {'index': {'creation_date': '1744387011382',\n",
      "                                  'knn': 'true',\n",
      "                                  'number_of_replicas': '0',\n",
      "                                  'number_of_shards': '4',\n",
      "                                  'provided_name': 'admin',\n",
      "                                  'refresh_interval': '-1',\n",
      "                                  'replication': {'type': 'DOCUMENT'},\n",
      "                                  'uuid': '3a5NHwlzQmi4RmFEhyf33g',\n",
      "                                  'version': {'created': '136347827'}}}}}\n",
      "\n",
      "----------------------------------------------------------------------------------- INDEX MAPPINGS\n",
      "{'admin': {'mappings': {'properties': {'caption_bow': {'analyzer': 'standard',\n",
      "                                                       'type': 'text'},\n",
      "                                       'caption_vec': {'dimension': 384,\n",
      "                                                       'type': 'knn_vector'},\n",
      "                                       'end_timestamp': {'type': 'float'},\n",
      "                                       'frame_path': {'fields': {'keyword': {'ignore_above': 256,\n",
      "                                                                             'type': 'keyword'}},\n",
      "                                                      'type': 'text'},\n",
      "                                       'frame_vec': {'dimension': 512,\n",
      "                                                     'type': 'knn_vector'},\n",
      "                                       'image_caption_embedding': {'dimension': 512,\n",
      "                                                                   'type': 'knn_vector'},\n",
      "                                       'image_embedding': {'dimension': 512,\n",
      "                                                           'type': 'knn_vector'},\n",
      "                                       'moment_description': {'analyzer': 'standard',\n",
      "                                                              'type': 'text'},\n",
      "                                       'start_timestamp': {'type': 'float'},\n",
      "                                       'vid_id': {'type': 'keyword'},\n",
      "                                       'video_id': {'fields': {'keyword': {'ignore_above': 256,\n",
      "                                                                           'type': 'keyword'}},\n",
      "                                                    'type': 'text'},\n",
      "                                       'video_length': {'type': 'float'},\n",
      "                                       'visual_description_vec': {'dimension': 512,\n",
      "                                                                  'type': 'knn_vector'}}}}}\n",
      "\n",
      "----------------------------------------------------------------------------------- INDEX #DOCs\n",
      "{'count': 1709, '_shards': {'total': 4, 'successful': 4, 'skipped': 0, 'failed': 0}}\n"
     ]
    },
    {
     "name": "stderr",
     "output_type": "stream",
     "text": [
      "/home/marc/anaconda3/envs/nlp-cv-ir/lib/python3.9/site-packages/urllib3/connectionpool.py:1064: InsecureRequestWarning: Unverified HTTPS request is being made to host 'localhost'. Adding certificate verification is strongly advised. See: https://urllib3.readthedocs.io/en/1.26.x/advanced-usage.html#ssl-warnings\n",
      "  warnings.warn(\n",
      "/home/marc/anaconda3/envs/nlp-cv-ir/lib/python3.9/site-packages/urllib3/connectionpool.py:1064: InsecureRequestWarning: Unverified HTTPS request is being made to host 'localhost'. Adding certificate verification is strongly advised. See: https://urllib3.readthedocs.io/en/1.26.x/advanced-usage.html#ssl-warnings\n",
      "  warnings.warn(\n",
      "/home/marc/anaconda3/envs/nlp-cv-ir/lib/python3.9/site-packages/urllib3/connectionpool.py:1064: InsecureRequestWarning: Unverified HTTPS request is being made to host 'localhost'. Adding certificate verification is strongly advised. See: https://urllib3.readthedocs.io/en/1.26.x/advanced-usage.html#ssl-warnings\n",
      "  warnings.warn(\n",
      "/home/marc/anaconda3/envs/nlp-cv-ir/lib/python3.9/site-packages/urllib3/connectionpool.py:1064: InsecureRequestWarning: Unverified HTTPS request is being made to host 'localhost'. Adding certificate verification is strongly advised. See: https://urllib3.readthedocs.io/en/1.26.x/advanced-usage.html#ssl-warnings\n",
      "  warnings.warn(\n"
     ]
    }
   ],
   "source": [
    "import pprint as pp\n",
    "from opensearchpy import OpenSearch\n",
    "from opensearchpy import helpers\n",
    "\n",
    "# Create the client with SSL/TLS enabled, but hostname verification disabled.\n",
    "client = OpenSearch(\n",
    "    hosts = [{'host': host, 'port': port}],\n",
    "    http_auth = (user, password),\n",
    "    use_ssl = True,\n",
    "    verify_certs = False,\n",
    ")\n",
    "\n",
    "if client.indices.exists(index_name):\n",
    "\n",
    "    resp = client.indices.open(index = index_name)\n",
    "    print(resp)\n",
    "\n",
    "    print('\\n----------------------------------------------------------------------------------- INDEX SETTINGS')\n",
    "    settings = client.indices.get_settings(index = index_name)\n",
    "    pp.pprint(settings)\n",
    "\n",
    "    print('\\n----------------------------------------------------------------------------------- INDEX MAPPINGS')\n",
    "    mappings = client.indices.get_mapping(index = index_name)\n",
    "    pp.pprint(mappings)\n",
    "\n",
    "    print('\\n----------------------------------------------------------------------------------- INDEX #DOCs')\n",
    "    print(client.count(index = index_name))\n",
    "else:\n",
    "    print(\"Index does not exist.\")"
   ]
  },
  {
   "cell_type": "markdown",
   "id": "81a7f7a9",
   "metadata": {},
   "source": [
    "## Frames extraction"
   ]
  },
  {
   "cell_type": "code",
   "execution_count": 3,
   "id": "51419cc6",
   "metadata": {},
   "outputs": [],
   "source": [
    "import av\n",
    "import av.datasets\n",
    "import os\n",
    "\n",
    "output_folder = \"./frames_part3\"\n",
    "video = \"./videos/6gyD-Mte2ZM.mp4\"\n",
    "# File name without extension\n",
    "filename = os.path.splitext(video)[0]\n",
    "if not os.path.isdir(output_folder + \"/\" + filename):\n",
    "    os.makedirs(output_folder + \"/\" + filename)\n",
    "with av.open(video) as container:\n",
    "    stream = container.streams.video[0]\n",
    "    # We want 2 frame per second\n",
    "    fps = stream.average_rate\n",
    "    interval = int(round(fps*0.5))\n",
    "    #print(fps)\n",
    "    cpt = 0\n",
    "    for i,frame in enumerate(container.decode(stream)):\n",
    "        if i % interval == 0:\n",
    "            frame.to_image().save(output_folder+\"/\"+filename+\"/\"+str(cpt*(0.5))+\".jpg\", quality=80)\n",
    "            cpt += 1"
   ]
  },
  {
   "cell_type": "markdown",
   "id": "fee0243c",
   "metadata": {},
   "source": [
    "## Put the data on opensearch"
   ]
  },
  {
   "cell_type": "code",
   "execution_count": null,
   "id": "a4ceaa31",
   "metadata": {},
   "outputs": [],
   "source": []
  },
  {
   "cell_type": "markdown",
   "id": "8e5703fc",
   "metadata": {},
   "source": [
    "## Captions generations"
   ]
  },
  {
   "cell_type": "code",
   "execution_count": null,
   "id": "101059d4",
   "metadata": {},
   "outputs": [],
   "source": []
  },
  {
   "cell_type": "markdown",
   "id": "080751ff",
   "metadata": {},
   "source": [
    "## Captions encoding"
   ]
  },
  {
   "cell_type": "code",
   "execution_count": null,
   "id": "a1732fdb",
   "metadata": {},
   "outputs": [],
   "source": []
  },
  {
   "cell_type": "markdown",
   "id": "890bb04b",
   "metadata": {},
   "source": [
    "## Regroupment based on clustering"
   ]
  },
  {
   "cell_type": "code",
   "execution_count": null,
   "id": "345e92c9",
   "metadata": {},
   "outputs": [],
   "source": []
  },
  {
   "cell_type": "markdown",
   "id": "58c9c1f5",
   "metadata": {},
   "source": [
    "## Frames fusionning"
   ]
  },
  {
   "cell_type": "code",
   "execution_count": null,
   "id": "533cfd8e",
   "metadata": {},
   "outputs": [],
   "source": []
  }
 ],
 "metadata": {
  "kernelspec": {
   "display_name": "nlp-cv-ir",
   "language": "python",
   "name": "python3"
  },
  "language_info": {
   "codemirror_mode": {
    "name": "ipython",
    "version": 3
   },
   "file_extension": ".py",
   "mimetype": "text/x-python",
   "name": "python",
   "nbconvert_exporter": "python",
   "pygments_lexer": "ipython3",
   "version": "3.9.21"
  }
 },
 "nbformat": 4,
 "nbformat_minor": 5
}
